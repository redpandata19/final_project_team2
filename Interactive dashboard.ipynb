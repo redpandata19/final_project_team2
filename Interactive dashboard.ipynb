{
 "cells": [
  {
   "cell_type": "code",
   "execution_count": 1,
   "id": "e494a638-0b43-45fd-a026-5ef4a38d7b2e",
   "metadata": {},
   "outputs": [],
   "source": [
    "from pyspark.sql import SparkSession"
   ]
  },
  {
   "cell_type": "code",
   "execution_count": 2,
   "id": "9bc7c339-7714-493b-95a7-5de2ccb7b1ef",
   "metadata": {},
   "outputs": [],
   "source": [
    "# Initialize Spark Session\n",
    "spark = SparkSession.builder.appName(\"IncomePrediction\").getOrCreate()"
   ]
  },
  {
   "cell_type": "code",
   "execution_count": 5,
   "id": "fab771f6-b8ed-4b1f-908a-a5b188b456ac",
   "metadata": {},
   "outputs": [],
   "source": [
    "# Load Dataset\n",
    "data_path = r\"C:/Users/kgonz/OneDrive/Desktop/UNC_DA_Bootcamp/github repositories/final_project_team2/database.csv\"\n",
    "schema = \"Age INT, Workclass STRING, Fnlwgt INT, Education STRING, Educational_Grade INT, Marital_Status STRING, Occupation STRING, Relationship STRING, Race STRING, Gender STRING, Capital_Gain INT, Capital_Loss INT, Hours_Worked_Per_Week INT, Native_Country STRING, Annual_Income STRING\"\n",
    "df = spark.read.csv(data_path, schema=schema, header=True)"
   ]
  },
  {
   "cell_type": "code",
   "execution_count": 6,
   "id": "35c9d5f2-7b5c-491f-9f92-70c8645866f1",
   "metadata": {},
   "outputs": [
    {
     "name": "stdout",
     "output_type": "stream",
     "text": [
      "+---+---------+------+------------+-----------------+------------------+-----------------+-------------+-----+------+------------+------------+---------------------+--------------+-------------+\n",
      "|Age|Workclass|Fnlwgt|   Education|Educational_Grade|    Marital_Status|       Occupation| Relationship| Race|Gender|Capital_Gain|Capital_Loss|Hours_Worked_Per_Week|Native_Country|Annual_Income|\n",
      "+---+---------+------+------------+-----------------+------------------+-----------------+-------------+-----+------+------------+------------+---------------------+--------------+-------------+\n",
      "| 25|  Private|226802|        11th|                7|     Never-married|Machine-op-inspct|    Own-child|Black|  Male|           0|           0|                   40| United-States|        <=50K|\n",
      "| 38|  Private| 89814|     HS-grad|                9|Married-civ-spouse|  Farming-fishing|      Husband|White|  Male|           0|           0|                   50| United-States|        <=50K|\n",
      "| 28|Local-gov|336951|  Assoc-acdm|               12|Married-civ-spouse|  Protective-serv|      Husband|White|  Male|           0|           0|                   40| United-States|         >50K|\n",
      "| 44|  Private|160323|Some-college|               10|Married-civ-spouse|Machine-op-inspct|      Husband|Black|  Male|        7688|           0|                   40| United-States|         >50K|\n",
      "| 34|  Private|198693|        10th|                6|     Never-married|    Other-service|Not-in-family|White|  Male|           0|           0|                   30| United-States|        <=50K|\n",
      "+---+---------+------+------------+-----------------+------------------+-----------------+-------------+-----+------+------------+------------+---------------------+--------------+-------------+\n",
      "only showing top 5 rows\n",
      "\n"
     ]
    }
   ],
   "source": [
    "# Show initial data\n",
    "df.show(5)"
   ]
  },
  {
   "cell_type": "code",
   "execution_count": null,
   "id": "a2b7f78f-d05b-451f-aef5-a2fd8a105f09",
   "metadata": {},
   "outputs": [],
   "source": []
  }
 ],
 "metadata": {
  "kernelspec": {
   "display_name": "Python 3 (ipykernel)",
   "language": "python",
   "name": "python3"
  },
  "language_info": {
   "codemirror_mode": {
    "name": "ipython",
    "version": 3
   },
   "file_extension": ".py",
   "mimetype": "text/x-python",
   "name": "python",
   "nbconvert_exporter": "python",
   "pygments_lexer": "ipython3",
   "version": "3.11.5"
  }
 },
 "nbformat": 4,
 "nbformat_minor": 5
}
