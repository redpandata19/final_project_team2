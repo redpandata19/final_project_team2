{
 "cells": [
  {
   "cell_type": "code",
   "execution_count": 1,
   "id": "d7cbeed4-2af3-44ca-86a3-a6c79050ac87",
   "metadata": {},
   "outputs": [],
   "source": [
    "import numpy as np\n",
    "import pandas as pd\n",
    "from sklearn.model_selection import train_test_split, GridSearchCV\n",
    "from sklearn.preprocessing import LabelEncoder\n",
    "from sklearn.ensemble import RandomForestClassifier, VotingClassifier\n",
    "from sklearn.linear_model import LogisticRegression\n",
    "from sklearn.metrics import classification_report\n",
    "from imblearn.over_sampling import SMOTE  # If needed, install with: pip install imbalanced-learn\n"
   ]
  },
  {
   "cell_type": "code",
   "execution_count": 2,
   "id": "f73e8051-5d8d-4e4b-9579-4d631c1eec41",
   "metadata": {},
   "outputs": [],
   "source": [
    "# Load the data\n",
    "df = pd.read_csv('Model2.csv')"
   ]
  },
  {
   "cell_type": "code",
   "execution_count": 3,
   "id": "1263d2f4-32a2-43e5-bb30-94fb1e9a822c",
   "metadata": {},
   "outputs": [],
   "source": [
    "# Encode the target variable\n",
    "le = LabelEncoder()\n",
    "df['income'] = le.fit_transform(df['income'])\n"
   ]
  },
  {
   "cell_type": "code",
   "execution_count": 4,
   "id": "764b9794-c85a-4490-9283-93f0fb2f4f44",
   "metadata": {},
   "outputs": [],
   "source": [
    "# Split data into features and target variable\n",
    "X = df.drop(columns=['income'])\n",
    "y = df['income']\n"
   ]
  },
  {
   "cell_type": "code",
   "execution_count": 5,
   "id": "997ea953-1878-45da-83db-e2d093727091",
   "metadata": {},
   "outputs": [],
   "source": [
    "# Split data into training and testing sets\n",
    "X_train, X_test, y_train, y_test = train_test_split(X, y, test_size=0.2, random_state=42)\n"
   ]
  },
  {
   "cell_type": "code",
   "execution_count": 6,
   "id": "5e6c7fe9-4de0-4c08-a3d1-c0586a3bfacb",
   "metadata": {},
   "outputs": [],
   "source": [
    "# 1. Address Class Imbalance with SMOTE\n",
    "sm = SMOTE(random_state=42)\n",
    "X_train_balanced, y_train_balanced = sm.fit_resample(X_train, y_train)"
   ]
  },
  {
   "cell_type": "code",
   "execution_count": null,
   "id": "3e8d4792-df72-46c1-a9d1-23ea19d16441",
   "metadata": {},
   "outputs": [],
   "source": [
    "# 2. Hyperparameter Tuning for RandomForestClassifier\n",
    "param_grid = {\n",
    "    'n_estimators': [100, 200, 300],\n",
    "    'max_depth': [None, 10, 20],\n",
    "    'min_samples_split': [2, 5, 10],\n",
    "    # Add more parameters as needed\n",
    "}\n",
    "grid_search_rf = GridSearchCV(RandomForestClassifier(), param_grid, cv=5, scoring='accuracy')\n",
    "grid_search_rf.fit(X_train_balanced, y_train_balanced)\n",
    "best_params_rf = grid_search_rf.best_params_\n"
   ]
  },
  {
   "cell_type": "code",
   "execution_count": null,
   "id": "fd517ca7-2d06-4a96-915a-bba234857761",
   "metadata": {},
   "outputs": [],
   "source": [
    "# Train the RandomForestClassifier with best parameters\n",
    "best_rf_model = RandomForestClassifier(**best_params_rf)\n",
    "best_rf_model.fit(X_train_balanced, y_train_balanced)\n"
   ]
  },
  {
   "cell_type": "code",
   "execution_count": null,
   "id": "1cac0023-88fd-4d2c-bbbf-f55931316090",
   "metadata": {},
   "outputs": [],
   "source": [
    "# 3. Feature Importance\n",
    "feature_importances = best_rf_model.feature_importances_\n",
    "plt.figure(figsize=(10, 6))\n",
    "plt.barh(X_train.columns, feature_importances)\n",
    "plt.xlabel('Feature Importance')\n",
    "plt.ylabel('Feature')\n",
    "plt.title('Random Forest Feature Importance')\n",
    "plt.show()\n"
   ]
  },
  {
   "cell_type": "code",
   "execution_count": null,
   "id": "e91c6429-ba71-4879-b324-d06547a53d5c",
   "metadata": {},
   "outputs": [],
   "source": [
    "# 4. Ensemble Methods: Voting Classifier\n",
    "models = [('rf', best_rf_model),\n",
    "          ('lr', LogisticRegression(solver='lbfgs', random_state=1))]\n",
    "voting_clf = VotingClassifier(estimators=models, voting='soft')\n",
    "voting_clf.fit(X_train_balanced, y_train_balanced)\n",
    "voting_preds = voting_clf.predict(X_test)\n"
   ]
  },
  {
   "cell_type": "code",
   "execution_count": null,
   "id": "f82b53fe-f87e-4889-80f1-c2f8de030455",
   "metadata": {},
   "outputs": [],
   "source": [
    "# Evaluate the Voting Classifier\n",
    "report_voting = classification_report(y_test, voting_preds)\n",
    "print(\"Classification Report for Voting Classifier:\")\n",
    "print(report_voting)"
   ]
  },
  {
   "cell_type": "code",
   "execution_count": null,
   "id": "b0066cfb-1145-47df-8956-8c8243c495fa",
   "metadata": {},
   "outputs": [],
   "source": []
  }
 ],
 "metadata": {
  "kernelspec": {
   "display_name": "Python 3 (ipykernel)",
   "language": "python",
   "name": "python3"
  },
  "language_info": {
   "codemirror_mode": {
    "name": "ipython",
    "version": 3
   },
   "file_extension": ".py",
   "mimetype": "text/x-python",
   "name": "python",
   "nbconvert_exporter": "python",
   "pygments_lexer": "ipython3",
   "version": "3.10.13"
  }
 },
 "nbformat": 4,
 "nbformat_minor": 5
}
